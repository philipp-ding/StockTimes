{
 "cells": [
  {
   "cell_type": "code",
   "execution_count": 1,
   "id": "confirmed-affairs",
   "metadata": {},
   "outputs": [],
   "source": [
    "import json\n",
    "import pandas as pd\n",
    "import matplotlib.pyplot as plt\n",
    "from sklearn.model_selection import train_test_split\n",
    "from sklearn.preprocessing import MinMaxScaler\n",
    "import numpy as np\n",
    "from sklearn.preprocessing import OneHotEncoder\n",
    "from sklearn.metrics import confusion_matrix\n",
    "import seaborn as sns\n",
    "import pickle\n",
    "import time\n"
   ]
  },
  {
   "cell_type": "markdown",
   "id": "requested-still",
   "metadata": {},
   "source": [
    "# Data preparation/Preprocessing"
   ]
  },
  {
   "cell_type": "code",
   "execution_count": 2,
   "id": "athletic-jerusalem",
   "metadata": {},
   "outputs": [],
   "source": [
    "def preprocessing_pipeline(filename): \n",
    "    with open(filename) as outfile:\n",
    "        all_stocks0 = json.load(outfile)\n",
    "        df = pd.read_json(all_stocks0)\n",
    "    df = df.drop(\"sector\", axis=1)\n",
    "    df.loc[df.beta_following_period == \"mittel\", \"beta_following_period\"] = 3\n",
    "    df.loc[df.beta_following_period == \"risikoreich\", \"beta_following_period\"] = 4\n",
    "    df.loc[df.beta_following_period == \"sehr wenig risikoreich\", \"beta_following_period\"] = 1\n",
    "    df.loc[df.beta_following_period == \"wenig risikoreich\", \"beta_following_period\"] = 2\n",
    "    df.loc[df.beta_following_period == \"verläuft entgegengesetzt zur Marktentwicklung\", \"beta_following_period\"] = 0\n",
    "    df.loc[df.beta_following_period == \"sehr risikoreich\", \"beta_following_period\"] = 5\n",
    "    \n",
    "    # One Hot Encoding\n",
    "    encoder = OneHotEncoder(sparse=False)\n",
    "    cat_cols = ['country']\n",
    "\n",
    "    # Encode Categorical Data\n",
    "    df_encoded = pd.DataFrame(encoder.fit_transform(df[cat_cols]))\n",
    "    df_encoded.columns = encoder.get_feature_names_out(cat_cols)\n",
    "\n",
    "    # Replace Categotical Data with Encoded Data\n",
    "    df = df.drop(cat_cols ,axis=1)\n",
    "    df = pd.concat([df_encoded, df], axis=1)\n",
    "    df = df.dropna()\n",
    "    Y = df.beta_following_period\n",
    "    Y=Y.astype('int')\n",
    "    X = df.drop([\"beta_following_period\"], axis=1)\n",
    "    return X,Y"
   ]
  },
  {
   "cell_type": "code",
   "execution_count": 3,
   "id": "disabled-techno",
   "metadata": {},
   "outputs": [],
   "source": [
    "X,Y = preprocessing_pipeline(\"msci_world_stocks.json\")"
   ]
  },
  {
   "cell_type": "code",
   "execution_count": 4,
   "id": "removable-corner",
   "metadata": {},
   "outputs": [],
   "source": [
    "X = X.drop(['name', 'longBusinessSummary', 'recommandationScore'], axis=1, errors='ignore')"
   ]
  },
  {
   "cell_type": "code",
   "execution_count": 5,
   "id": "cardiac-choice",
   "metadata": {},
   "outputs": [],
   "source": [
    "# # .corr() can calculate 'pearson', 'kendall', 'spearman' correlations.\n",
    "# print(df.corr(method='pearson'))"
   ]
  },
  {
   "cell_type": "code",
   "execution_count": 6,
   "id": "comparative-andrews",
   "metadata": {},
   "outputs": [],
   "source": [
    "X_train, X_test, y_train, y_test = train_test_split(X, Y, random_state=42)\n",
    "scaler = MinMaxScaler()\n",
    "X_train_columns = X_train.columns \n",
    "X_train = scaler.fit_transform(X_train)\n",
    "X_test = scaler.transform(X_test)"
   ]
  },
  {
   "cell_type": "code",
   "execution_count": 7,
   "id": "innovative-contributor",
   "metadata": {},
   "outputs": [
    {
     "data": {
      "text/plain": [
       "(1137, 29)"
      ]
     },
     "execution_count": 7,
     "metadata": {},
     "output_type": "execute_result"
    }
   ],
   "source": [
    "X_train.shape"
   ]
  },
  {
   "cell_type": "code",
   "execution_count": 8,
   "id": "assigned-source",
   "metadata": {},
   "outputs": [
    {
     "data": {
      "text/plain": [
       "3    346\n",
       "4    329\n",
       "2    301\n",
       "5    268\n",
       "1    263\n",
       "0      9\n",
       "Name: beta_following_period, dtype: int64"
      ]
     },
     "execution_count": 8,
     "metadata": {},
     "output_type": "execute_result"
    }
   ],
   "source": [
    "Y.value_counts()"
   ]
  },
  {
   "cell_type": "markdown",
   "id": "discrete-efficiency",
   "metadata": {},
   "source": [
    "# Model training"
   ]
  },
  {
   "cell_type": "markdown",
   "id": "answering-throat",
   "metadata": {},
   "source": [
    "training some initial models/Klassifiers"
   ]
  },
  {
   "cell_type": "code",
   "execution_count": 9,
   "id": "removable-berlin",
   "metadata": {},
   "outputs": [
    {
     "name": "stdout",
     "output_type": "stream",
     "text": [
      "Accuracy of Logistic regression classifier on training set: 0.26\n",
      "Accuracy of Logistic regression classifier on test set: 0.22\n"
     ]
    },
    {
     "name": "stderr",
     "output_type": "stream",
     "text": [
      "C:\\Users\\I539001\\AppData\\Local\\Packages\\PythonSoftwareFoundation.Python.3.9_qbz5n2kfra8p0\\LocalCache\\local-packages\\Python39\\site-packages\\sklearn\\linear_model\\_logistic.py:814: ConvergenceWarning: lbfgs failed to converge (status=1):\n",
      "STOP: TOTAL NO. of ITERATIONS REACHED LIMIT.\n",
      "\n",
      "Increase the number of iterations (max_iter) or scale the data as shown in:\n",
      "    https://scikit-learn.org/stable/modules/preprocessing.html\n",
      "Please also refer to the documentation for alternative solver options:\n",
      "    https://scikit-learn.org/stable/modules/linear_model.html#logistic-regression\n",
      "  n_iter_i = _check_optimize_result(\n"
     ]
    }
   ],
   "source": [
    "from sklearn.linear_model import LogisticRegression\n",
    "logreg = LogisticRegression()\n",
    "logreg.fit(X_train, y_train)\n",
    "print('Accuracy of Logistic regression classifier on training set: {:.2f}'\n",
    "     .format(logreg.score(X_train, y_train)))\n",
    "print('Accuracy of Logistic regression classifier on test set: {:.2f}'\n",
    "     .format(logreg.score(X_test, y_test))) "
   ]
  },
  {
   "cell_type": "code",
   "execution_count": 10,
   "id": "sapphire-action",
   "metadata": {},
   "outputs": [
    {
     "name": "stdout",
     "output_type": "stream",
     "text": [
      "Accuracy of Decision Tree classifier on training set: 1.00\n",
      "Accuracy of Decision Tree classifier on test set: 0.27\n"
     ]
    }
   ],
   "source": [
    "from sklearn.tree import DecisionTreeClassifier\n",
    "clf = DecisionTreeClassifier().fit(X_train, y_train)\n",
    "print('Accuracy of Decision Tree classifier on training set: {:.2f}'\n",
    "     .format(clf.score(X_train, y_train)))\n",
    "print('Accuracy of Decision Tree classifier on test set: {:.2f}'\n",
    "     .format(clf.score(X_test, y_test)))"
   ]
  },
  {
   "cell_type": "code",
   "execution_count": 11,
   "id": "tough-accordance",
   "metadata": {},
   "outputs": [
    {
     "name": "stdout",
     "output_type": "stream",
     "text": [
      "Accuracy of K-NN classifier on training set: 0.33\n",
      "Accuracy of K-NN classifier on test set: 0.26\n"
     ]
    }
   ],
   "source": [
    "from sklearn.neighbors import KNeighborsClassifier\n",
    "knn = KNeighborsClassifier(n_neighbors= int(np.sqrt(len(X_train/2))))\n",
    "knn.fit(X_train, y_train)\n",
    "print('Accuracy of K-NN classifier on training set: {:.2f}'\n",
    "     .format(knn.score(X_train, y_train)))\n",
    "print('Accuracy of K-NN classifier on test set: {:.2f}'\n",
    "     .format(knn.score(X_test, y_test)))\n",
    "y_pred  = knn.predict(X_test)"
   ]
  },
  {
   "cell_type": "code",
   "execution_count": 12,
   "id": "diagnostic-collectible",
   "metadata": {},
   "outputs": [
    {
     "name": "stdout",
     "output_type": "stream",
     "text": [
      "Accuracy of LDA classifier on training set: 0.28\n",
      "Accuracy of LDA classifier on test set: 0.23\n"
     ]
    }
   ],
   "source": [
    "from sklearn.discriminant_analysis import LinearDiscriminantAnalysis\n",
    "lda = LinearDiscriminantAnalysis()\n",
    "lda.fit(X_train, y_train)\n",
    "print('Accuracy of LDA classifier on training set: {:.2f}'\n",
    "     .format(lda.score(X_train, y_train)))\n",
    "print('Accuracy of LDA classifier on test set: {:.2f}'\n",
    "     .format(lda.score(X_test, y_test)))"
   ]
  },
  {
   "cell_type": "code",
   "execution_count": 13,
   "id": "concrete-throat",
   "metadata": {},
   "outputs": [
    {
     "name": "stdout",
     "output_type": "stream",
     "text": [
      "Accuracy of GNB classifier on training set: 0.08\n",
      "Accuracy of GNB classifier on test set: 0.05\n"
     ]
    }
   ],
   "source": [
    "from sklearn.naive_bayes import GaussianNB\n",
    "gnb = GaussianNB()\n",
    "gnb.fit(X_train, y_train)\n",
    "print('Accuracy of GNB classifier on training set: {:.2f}'\n",
    "     .format(gnb.score(X_train, y_train)))\n",
    "print('Accuracy of GNB classifier on test set: {:.2f}'\n",
    "     .format(gnb.score(X_test, y_test)))"
   ]
  },
  {
   "cell_type": "code",
   "execution_count": 14,
   "id": "million-trade",
   "metadata": {},
   "outputs": [
    {
     "name": "stdout",
     "output_type": "stream",
     "text": [
      "Accuracy of SVM classifier on training set: 0.24\n",
      "Accuracy of SVM classifier on test set: 0.23\n"
     ]
    },
    {
     "data": {
      "image/png": "[encoded data removed]",
      "text/plain": [
       "<Figure size 432x288 with 2 Axes>"
      ]
     },
     "metadata": {
      "needs_background": "light"
     },
     "output_type": "display_data"
    }
   ],
   "source": [
    "from sklearn.svm import SVC\n",
    "svm = SVC()\n",
    "svm.fit(X_train, y_train)\n",
    "\n",
    "# y_pred  = svm.predict(X_test)\n",
    "cm = confusion_matrix(y_test, y_pred )\n",
    "ax = sns.heatmap(cm, annot=True, cmap='Greens')\n",
    "ax.set_title(\"Confusion Matrix for SVM Classifier\")\n",
    "# labels, title and ticks\n",
    "ax.set_xlabel('Predicted labels')\n",
    "ax.set_ylabel('True labels')\n",
    "\n",
    "print('Accuracy of SVM classifier on training set: {:.2f}'\n",
    "     .format(svm.score(X_train, y_train)))\n",
    "print('Accuracy of SVM classifier on test set: {:.2f}'\n",
    "     .format(svm.score(X_test, y_test)))\n"
   ]
  },
  {
   "cell_type": "markdown",
   "id": "interesting-section",
   "metadata": {},
   "source": [
    "# Evaluating"
   ]
  },
  {
   "cell_type": "code",
   "execution_count": 15,
   "id": "occasional-increase",
   "metadata": {},
   "outputs": [
    {
     "name": "stdout",
     "output_type": "stream",
     "text": [
      "\n",
      "Accuracy: 0.26\n",
      "\n",
      "Micro Precision: 0.26\n",
      "Micro Recall: 0.26\n",
      "Micro F1-score: 0.26\n",
      "\n",
      "Macro Precision: 0.22\n",
      "Macro Recall: 0.21\n",
      "Macro F1-score: 0.21\n",
      "\n",
      "Weighted Precision: 0.26\n",
      "Weighted Recall: 0.26\n",
      "Weighted F1-score: 0.26\n",
      "\n",
      "Classification Report\n",
      "\n",
      "              precision    recall  f1-score   support\n",
      "\n",
      "     Class 1       0.00      0.00      0.00         1\n",
      "     Class 2       0.24      0.25      0.24        73\n",
      "     Class 3       0.24      0.14      0.17        74\n",
      "     Class 4       0.25      0.35      0.29        89\n",
      "     Class 5       0.33      0.32      0.32        91\n",
      "     Class 6       0.23      0.24      0.23        51\n",
      "\n",
      "    accuracy                           0.26       379\n",
      "   macro avg       0.22      0.21      0.21       379\n",
      "weighted avg       0.26      0.26      0.26       379\n",
      "\n"
     ]
    },
    {
     "name": "stderr",
     "output_type": "stream",
     "text": [
      "C:\\Users\\I539001\\AppData\\Local\\Packages\\PythonSoftwareFoundation.Python.3.9_qbz5n2kfra8p0\\LocalCache\\local-packages\\Python39\\site-packages\\sklearn\\metrics\\_classification.py:1318: UndefinedMetricWarning: Precision is ill-defined and being set to 0.0 in labels with no predicted samples. Use `zero_division` parameter to control this behavior.\n",
      "  _warn_prf(average, modifier, msg_start, len(result))\n",
      "C:\\Users\\I539001\\AppData\\Local\\Packages\\PythonSoftwareFoundation.Python.3.9_qbz5n2kfra8p0\\LocalCache\\local-packages\\Python39\\site-packages\\sklearn\\metrics\\_classification.py:1318: UndefinedMetricWarning: Precision is ill-defined and being set to 0.0 in labels with no predicted samples. Use `zero_division` parameter to control this behavior.\n",
      "  _warn_prf(average, modifier, msg_start, len(result))\n",
      "C:\\Users\\I539001\\AppData\\Local\\Packages\\PythonSoftwareFoundation.Python.3.9_qbz5n2kfra8p0\\LocalCache\\local-packages\\Python39\\site-packages\\sklearn\\metrics\\_classification.py:1318: UndefinedMetricWarning: Precision and F-score are ill-defined and being set to 0.0 in labels with no predicted samples. Use `zero_division` parameter to control this behavior.\n",
      "  _warn_prf(average, modifier, msg_start, len(result))\n",
      "C:\\Users\\I539001\\AppData\\Local\\Packages\\PythonSoftwareFoundation.Python.3.9_qbz5n2kfra8p0\\LocalCache\\local-packages\\Python39\\site-packages\\sklearn\\metrics\\_classification.py:1318: UndefinedMetricWarning: Precision and F-score are ill-defined and being set to 0.0 in labels with no predicted samples. Use `zero_division` parameter to control this behavior.\n",
      "  _warn_prf(average, modifier, msg_start, len(result))\n",
      "C:\\Users\\I539001\\AppData\\Local\\Packages\\PythonSoftwareFoundation.Python.3.9_qbz5n2kfra8p0\\LocalCache\\local-packages\\Python39\\site-packages\\sklearn\\metrics\\_classification.py:1318: UndefinedMetricWarning: Precision and F-score are ill-defined and being set to 0.0 in labels with no predicted samples. Use `zero_division` parameter to control this behavior.\n",
      "  _warn_prf(average, modifier, msg_start, len(result))\n"
     ]
    },
    {
     "data": {
      "image/png": "[encoded data removed]",
      "text/plain": [
       "<Figure size 432x288 with 2 Axes>"
      ]
     },
     "metadata": {
      "needs_background": "light"
     },
     "output_type": "display_data"
    }
   ],
   "source": [
    "confusion = confusion_matrix(y_test, y_pred)\n",
    "# print('Confusion Matrix\\n')\n",
    "ax = sns.heatmap(confusion, annot=True, cmap='Blues')\n",
    "\n",
    "#importing accuracy_score, precision_score, recall_score, f1_score\n",
    "from sklearn.metrics import accuracy_score, precision_score, recall_score, f1_score\n",
    "print('\\nAccuracy: {:.2f}\\n'.format(accuracy_score(y_test, y_pred)))\n",
    "\n",
    "print('Micro Precision: {:.2f}'.format(precision_score(y_test, y_pred, average='micro')))\n",
    "print('Micro Recall: {:.2f}'.format(recall_score(y_test, y_pred, average='micro')))\n",
    "print('Micro F1-score: {:.2f}\\n'.format(f1_score(y_test, y_pred, average='micro')))\n",
    "\n",
    "print('Macro Precision: {:.2f}'.format(precision_score(y_test, y_pred, average='macro')))\n",
    "print('Macro Recall: {:.2f}'.format(recall_score(y_test, y_pred, average='macro')))\n",
    "print('Macro F1-score: {:.2f}\\n'.format(f1_score(y_test, y_pred, average='macro')))\n",
    "\n",
    "print('Weighted Precision: {:.2f}'.format(precision_score(y_test, y_pred, average='weighted')))\n",
    "print('Weighted Recall: {:.2f}'.format(recall_score(y_test, y_pred, average='weighted')))\n",
    "print('Weighted F1-score: {:.2f}'.format(f1_score(y_test, y_pred, average='weighted')))\n",
    "\n",
    "from sklearn.metrics import classification_report\n",
    "print('\\nClassification Report\\n')\n",
    "print(classification_report(y_test, y_pred, target_names=['Class 1', 'Class 2', 'Class 3', 'Class 4', 'Class 5', 'Class 6']))"
   ]
  },
  {
   "cell_type": "markdown",
   "id": "copyrighted-adventure",
   "metadata": {},
   "source": [
    "# Saving and loading a trained model"
   ]
  },
  {
   "cell_type": "code",
   "execution_count": 16,
   "id": "variable-lexington",
   "metadata": {},
   "outputs": [],
   "source": [
    "def save_model(pkl_filename, model): \n",
    "    # Save to file in the current working directory\n",
    "    pickle.dump(model, open(pkl_filename, 'wb'))\n",
    "    "
   ]
  },
  {
   "cell_type": "code",
   "execution_count": 17,
   "id": "coated-training",
   "metadata": {},
   "outputs": [],
   "source": [
    "def load_model(pkl_filename): \n",
    "     # Load from file\n",
    "    with open(pkl_filename, 'rb') as file:\n",
    "        pickle_model = pickle.load(file)\n",
    "    return pickle_model"
   ]
  },
  {
   "cell_type": "code",
   "execution_count": 18,
   "id": "listed-species",
   "metadata": {},
   "outputs": [],
   "source": [
    "save_model(\"knn_model.pkl\", knn)"
   ]
  },
  {
   "cell_type": "code",
   "execution_count": 19,
   "id": "living-recipient",
   "metadata": {},
   "outputs": [],
   "source": [
    "pickle_model = load_model(\"knn_model.pkl\")"
   ]
  },
  {
   "cell_type": "code",
   "execution_count": 20,
   "id": "special-utility",
   "metadata": {},
   "outputs": [
    {
     "name": "stdout",
     "output_type": "stream",
     "text": [
      "Test score: 26.39 %\n"
     ]
    }
   ],
   "source": [
    "# Calculate the accuracy score and predict target values\n",
    "score = pickle_model.score(X_test, y_test)\n",
    "print(\"Test score: {0:.2f} %\".format(100 * score))"
   ]
  },
  {
   "cell_type": "code",
   "execution_count": 21,
   "id": "matched-video",
   "metadata": {},
   "outputs": [],
   "source": [
    "X,Y = preprocessing_pipeline(\"msci_world_stocks.json\")"
   ]
  },
  {
   "cell_type": "code",
   "execution_count": 22,
   "id": "synthetic-publicity",
   "metadata": {},
   "outputs": [
    {
     "data": {
      "text/html": [
       "<div>\n",
       "<style scoped>\n",
       "    .dataframe tbody tr th:only-of-type {\n",
       "        vertical-align: middle;\n",
       "    }\n",
       "\n",
       "    .dataframe tbody tr th {\n",
       "        vertical-align: top;\n",
       "    }\n",
       "\n",
       "    .dataframe thead th {\n",
       "        text-align: right;\n",
       "    }\n",
       "</style>\n",
       "<table border=\"1\" class=\"dataframe\">\n",
       "  <thead>\n",
       "    <tr style=\"text-align: right;\">\n",
       "      <th></th>\n",
       "      <th>country_Argentina</th>\n",
       "      <th>country_Australia</th>\n",
       "      <th>country_Bermuda</th>\n",
       "      <th>country_Brazil</th>\n",
       "      <th>country_Canada</th>\n",
       "      <th>country_China</th>\n",
       "      <th>country_Denmark</th>\n",
       "      <th>country_France</th>\n",
       "      <th>country_Germany</th>\n",
       "      <th>country_Ireland</th>\n",
       "      <th>...</th>\n",
       "      <th>country_United Kingdom</th>\n",
       "      <th>country_United States</th>\n",
       "      <th>name</th>\n",
       "      <th>longBusinessSummary</th>\n",
       "      <th>cashFlow</th>\n",
       "      <th>EK_Quote</th>\n",
       "      <th>ebit_growth</th>\n",
       "      <th>revenue_growth</th>\n",
       "      <th>kgv</th>\n",
       "      <th>kuv</th>\n",
       "    </tr>\n",
       "  </thead>\n",
       "  <tbody>\n",
       "    <tr>\n",
       "      <th>1</th>\n",
       "      <td>0.0</td>\n",
       "      <td>0.0</td>\n",
       "      <td>0.0</td>\n",
       "      <td>0.0</td>\n",
       "      <td>0.0</td>\n",
       "      <td>0.0</td>\n",
       "      <td>0.0</td>\n",
       "      <td>0.0</td>\n",
       "      <td>0.0</td>\n",
       "      <td>0.0</td>\n",
       "      <td>...</td>\n",
       "      <td>0.0</td>\n",
       "      <td>1.0</td>\n",
       "      <td>Apple Inc.</td>\n",
       "      <td>Apple Inc. designs, manufactures, and markets ...</td>\n",
       "      <td>2.431100e+10</td>\n",
       "      <td>0.267308</td>\n",
       "      <td>0.928189</td>\n",
       "      <td>0.979589</td>\n",
       "      <td>16.004385</td>\n",
       "      <td>3.399026</td>\n",
       "    </tr>\n",
       "    <tr>\n",
       "      <th>2</th>\n",
       "      <td>0.0</td>\n",
       "      <td>0.0</td>\n",
       "      <td>0.0</td>\n",
       "      <td>0.0</td>\n",
       "      <td>0.0</td>\n",
       "      <td>0.0</td>\n",
       "      <td>0.0</td>\n",
       "      <td>0.0</td>\n",
       "      <td>0.0</td>\n",
       "      <td>0.0</td>\n",
       "      <td>...</td>\n",
       "      <td>0.0</td>\n",
       "      <td>1.0</td>\n",
       "      <td>Apple Inc.</td>\n",
       "      <td>Apple Inc. designs, manufactures, and markets ...</td>\n",
       "      <td>-1.043500e+10</td>\n",
       "      <td>0.201733</td>\n",
       "      <td>1.039000</td>\n",
       "      <td>1.055121</td>\n",
       "      <td>31.929079</td>\n",
       "      <td>6.677524</td>\n",
       "    </tr>\n",
       "    <tr>\n",
       "      <th>3</th>\n",
       "      <td>0.0</td>\n",
       "      <td>0.0</td>\n",
       "      <td>0.0</td>\n",
       "      <td>0.0</td>\n",
       "      <td>0.0</td>\n",
       "      <td>0.0</td>\n",
       "      <td>0.0</td>\n",
       "      <td>0.0</td>\n",
       "      <td>0.0</td>\n",
       "      <td>0.0</td>\n",
       "      <td>...</td>\n",
       "      <td>0.0</td>\n",
       "      <td>1.0</td>\n",
       "      <td>Apple Inc.</td>\n",
       "      <td>Apple Inc. designs, manufactures, and markets ...</td>\n",
       "      <td>-3.860000e+09</td>\n",
       "      <td>0.179743</td>\n",
       "      <td>1.649161</td>\n",
       "      <td>1.332594</td>\n",
       "      <td>25.458685</td>\n",
       "      <td>6.589164</td>\n",
       "    </tr>\n",
       "    <tr>\n",
       "      <th>5</th>\n",
       "      <td>0.0</td>\n",
       "      <td>0.0</td>\n",
       "      <td>0.0</td>\n",
       "      <td>0.0</td>\n",
       "      <td>0.0</td>\n",
       "      <td>0.0</td>\n",
       "      <td>0.0</td>\n",
       "      <td>0.0</td>\n",
       "      <td>0.0</td>\n",
       "      <td>0.0</td>\n",
       "      <td>...</td>\n",
       "      <td>0.0</td>\n",
       "      <td>1.0</td>\n",
       "      <td>Microsoft Corporation</td>\n",
       "      <td>Microsoft Corporation develops, licenses, and ...</td>\n",
       "      <td>-5.900000e+08</td>\n",
       "      <td>0.357103</td>\n",
       "      <td>2.367992</td>\n",
       "      <td>1.140295</td>\n",
       "      <td>25.398821</td>\n",
       "      <td>7.919787</td>\n",
       "    </tr>\n",
       "    <tr>\n",
       "      <th>6</th>\n",
       "      <td>0.0</td>\n",
       "      <td>0.0</td>\n",
       "      <td>0.0</td>\n",
       "      <td>0.0</td>\n",
       "      <td>0.0</td>\n",
       "      <td>0.0</td>\n",
       "      <td>0.0</td>\n",
       "      <td>0.0</td>\n",
       "      <td>0.0</td>\n",
       "      <td>0.0</td>\n",
       "      <td>...</td>\n",
       "      <td>0.0</td>\n",
       "      <td>1.0</td>\n",
       "      <td>Microsoft Corporation</td>\n",
       "      <td>Microsoft Corporation develops, licenses, and ...</td>\n",
       "      <td>2.220000e+09</td>\n",
       "      <td>0.392631</td>\n",
       "      <td>1.128466</td>\n",
       "      <td>1.136456</td>\n",
       "      <td>33.323456</td>\n",
       "      <td>10.317771</td>\n",
       "    </tr>\n",
       "  </tbody>\n",
       "</table>\n",
       "<p>5 rows × 31 columns</p>\n",
       "</div>"
      ],
      "text/plain": [
       "   country_Argentina  country_Australia  country_Bermuda  country_Brazil  \\\n",
       "1                0.0                0.0              0.0             0.0   \n",
       "2                0.0                0.0              0.0             0.0   \n",
       "3                0.0                0.0              0.0             0.0   \n",
       "5                0.0                0.0              0.0             0.0   \n",
       "6                0.0                0.0              0.0             0.0   \n",
       "\n",
       "   country_Canada  country_China  country_Denmark  country_France  \\\n",
       "1             0.0            0.0              0.0             0.0   \n",
       "2             0.0            0.0              0.0             0.0   \n",
       "3             0.0            0.0              0.0             0.0   \n",
       "5             0.0            0.0              0.0             0.0   \n",
       "6             0.0            0.0              0.0             0.0   \n",
       "\n",
       "   country_Germany  country_Ireland  ...  country_United Kingdom  \\\n",
       "1              0.0              0.0  ...                     0.0   \n",
       "2              0.0              0.0  ...                     0.0   \n",
       "3              0.0              0.0  ...                     0.0   \n",
       "5              0.0              0.0  ...                     0.0   \n",
       "6              0.0              0.0  ...                     0.0   \n",
       "\n",
       "   country_United States                   name  \\\n",
       "1                    1.0             Apple Inc.   \n",
       "2                    1.0             Apple Inc.   \n",
       "3                    1.0             Apple Inc.   \n",
       "5                    1.0  Microsoft Corporation   \n",
       "6                    1.0  Microsoft Corporation   \n",
       "\n",
       "                                 longBusinessSummary      cashFlow  EK_Quote  \\\n",
       "1  Apple Inc. designs, manufactures, and markets ...  2.431100e+10  0.267308   \n",
       "2  Apple Inc. designs, manufactures, and markets ... -1.043500e+10  0.201733   \n",
       "3  Apple Inc. designs, manufactures, and markets ... -3.860000e+09  0.179743   \n",
       "5  Microsoft Corporation develops, licenses, and ... -5.900000e+08  0.357103   \n",
       "6  Microsoft Corporation develops, licenses, and ...  2.220000e+09  0.392631   \n",
       "\n",
       "   ebit_growth  revenue_growth        kgv        kuv  \n",
       "1     0.928189        0.979589  16.004385   3.399026  \n",
       "2     1.039000        1.055121  31.929079   6.677524  \n",
       "3     1.649161        1.332594  25.458685   6.589164  \n",
       "5     2.367992        1.140295  25.398821   7.919787  \n",
       "6     1.128466        1.136456  33.323456  10.317771  \n",
       "\n",
       "[5 rows x 31 columns]"
      ]
     },
     "execution_count": 22,
     "metadata": {},
     "output_type": "execute_result"
    }
   ],
   "source": [
    "X.head()"
   ]
  },
  {
   "cell_type": "code",
   "execution_count": 23,
   "id": "historic-contact",
   "metadata": {},
   "outputs": [],
   "source": [
    "X_new = X.drop(['name', 'longBusinessSummary', 'recommandationScore'], axis=1, errors='ignore')"
   ]
  },
  {
   "cell_type": "code",
   "execution_count": 24,
   "id": "timely-letter",
   "metadata": {},
   "outputs": [
    {
     "name": "stderr",
     "output_type": "stream",
     "text": [
      "C:\\Users\\I539001\\AppData\\Local\\Packages\\PythonSoftwareFoundation.Python.3.9_qbz5n2kfra8p0\\LocalCache\\local-packages\\Python39\\site-packages\\sklearn\\base.py:443: UserWarning: X has feature names, but KNeighborsClassifier was fitted without feature names\n",
      "  warnings.warn(\n"
     ]
    },
    {
     "data": {
      "text/plain": [
       "0.21767810026385223"
      ]
     },
     "execution_count": 24,
     "metadata": {},
     "output_type": "execute_result"
    }
   ],
   "source": [
    "pickle_model.score(X_new, Y)"
   ]
  },
  {
   "cell_type": "markdown",
   "id": "nonprofit-observer",
   "metadata": {},
   "source": [
    "# Saving Dataframe with predicted betas"
   ]
  },
  {
   "cell_type": "code",
   "execution_count": 25,
   "id": "dedicated-welsh",
   "metadata": {},
   "outputs": [],
   "source": [
    "def save_df_predicted_betas(filename): \n",
    "    X_new = X.drop(['name', 'longBusinessSummary', 'recommandationScore'], axis=1, errors='ignore')\n",
    "    X_new[\"future_beta\"] = pickle_model.predict(X_new)\n",
    "    X_new[\"name\"] = X.name\n",
    "    X_new.to_csv(filename)\n",
    "    return X_new"
   ]
  },
  {
   "cell_type": "code",
   "execution_count": 26,
   "id": "defensive-cambodia",
   "metadata": {},
   "outputs": [
    {
     "name": "stderr",
     "output_type": "stream",
     "text": [
      "C:\\Users\\I539001\\AppData\\Local\\Packages\\PythonSoftwareFoundation.Python.3.9_qbz5n2kfra8p0\\LocalCache\\local-packages\\Python39\\site-packages\\sklearn\\base.py:443: UserWarning: X has feature names, but KNeighborsClassifier was fitted without feature names\n",
      "  warnings.warn(\n"
     ]
    },
    {
     "data": {
      "text/html": [
       "<div>\n",
       "<style scoped>\n",
       "    .dataframe tbody tr th:only-of-type {\n",
       "        vertical-align: middle;\n",
       "    }\n",
       "\n",
       "    .dataframe tbody tr th {\n",
       "        vertical-align: top;\n",
       "    }\n",
       "\n",
       "    .dataframe thead th {\n",
       "        text-align: right;\n",
       "    }\n",
       "</style>\n",
       "<table border=\"1\" class=\"dataframe\">\n",
       "  <thead>\n",
       "    <tr style=\"text-align: right;\">\n",
       "      <th></th>\n",
       "      <th>country_Argentina</th>\n",
       "      <th>country_Australia</th>\n",
       "      <th>country_Bermuda</th>\n",
       "      <th>country_Brazil</th>\n",
       "      <th>country_Canada</th>\n",
       "      <th>country_China</th>\n",
       "      <th>country_Denmark</th>\n",
       "      <th>country_France</th>\n",
       "      <th>country_Germany</th>\n",
       "      <th>country_Ireland</th>\n",
       "      <th>...</th>\n",
       "      <th>country_United Kingdom</th>\n",
       "      <th>country_United States</th>\n",
       "      <th>cashFlow</th>\n",
       "      <th>EK_Quote</th>\n",
       "      <th>ebit_growth</th>\n",
       "      <th>revenue_growth</th>\n",
       "      <th>kgv</th>\n",
       "      <th>kuv</th>\n",
       "      <th>future_beta</th>\n",
       "      <th>name</th>\n",
       "    </tr>\n",
       "  </thead>\n",
       "  <tbody>\n",
       "    <tr>\n",
       "      <th>1</th>\n",
       "      <td>0.0</td>\n",
       "      <td>0.0</td>\n",
       "      <td>0.0</td>\n",
       "      <td>0.0</td>\n",
       "      <td>0.0</td>\n",
       "      <td>0.0</td>\n",
       "      <td>0.0</td>\n",
       "      <td>0.0</td>\n",
       "      <td>0.0</td>\n",
       "      <td>0.0</td>\n",
       "      <td>...</td>\n",
       "      <td>0.0</td>\n",
       "      <td>1.0</td>\n",
       "      <td>2.431100e+10</td>\n",
       "      <td>0.267308</td>\n",
       "      <td>0.928189</td>\n",
       "      <td>0.979589</td>\n",
       "      <td>16.004385</td>\n",
       "      <td>3.399026</td>\n",
       "      <td>4</td>\n",
       "      <td>Apple Inc.</td>\n",
       "    </tr>\n",
       "    <tr>\n",
       "      <th>2</th>\n",
       "      <td>0.0</td>\n",
       "      <td>0.0</td>\n",
       "      <td>0.0</td>\n",
       "      <td>0.0</td>\n",
       "      <td>0.0</td>\n",
       "      <td>0.0</td>\n",
       "      <td>0.0</td>\n",
       "      <td>0.0</td>\n",
       "      <td>0.0</td>\n",
       "      <td>0.0</td>\n",
       "      <td>...</td>\n",
       "      <td>0.0</td>\n",
       "      <td>1.0</td>\n",
       "      <td>-1.043500e+10</td>\n",
       "      <td>0.201733</td>\n",
       "      <td>1.039000</td>\n",
       "      <td>1.055121</td>\n",
       "      <td>31.929079</td>\n",
       "      <td>6.677524</td>\n",
       "      <td>5</td>\n",
       "      <td>Apple Inc.</td>\n",
       "    </tr>\n",
       "    <tr>\n",
       "      <th>3</th>\n",
       "      <td>0.0</td>\n",
       "      <td>0.0</td>\n",
       "      <td>0.0</td>\n",
       "      <td>0.0</td>\n",
       "      <td>0.0</td>\n",
       "      <td>0.0</td>\n",
       "      <td>0.0</td>\n",
       "      <td>0.0</td>\n",
       "      <td>0.0</td>\n",
       "      <td>0.0</td>\n",
       "      <td>...</td>\n",
       "      <td>0.0</td>\n",
       "      <td>1.0</td>\n",
       "      <td>-3.860000e+09</td>\n",
       "      <td>0.179743</td>\n",
       "      <td>1.649161</td>\n",
       "      <td>1.332594</td>\n",
       "      <td>25.458685</td>\n",
       "      <td>6.589164</td>\n",
       "      <td>5</td>\n",
       "      <td>Apple Inc.</td>\n",
       "    </tr>\n",
       "    <tr>\n",
       "      <th>5</th>\n",
       "      <td>0.0</td>\n",
       "      <td>0.0</td>\n",
       "      <td>0.0</td>\n",
       "      <td>0.0</td>\n",
       "      <td>0.0</td>\n",
       "      <td>0.0</td>\n",
       "      <td>0.0</td>\n",
       "      <td>0.0</td>\n",
       "      <td>0.0</td>\n",
       "      <td>0.0</td>\n",
       "      <td>...</td>\n",
       "      <td>0.0</td>\n",
       "      <td>1.0</td>\n",
       "      <td>-5.900000e+08</td>\n",
       "      <td>0.357103</td>\n",
       "      <td>2.367992</td>\n",
       "      <td>1.140295</td>\n",
       "      <td>25.398821</td>\n",
       "      <td>7.919787</td>\n",
       "      <td>5</td>\n",
       "      <td>Microsoft Corporation</td>\n",
       "    </tr>\n",
       "    <tr>\n",
       "      <th>6</th>\n",
       "      <td>0.0</td>\n",
       "      <td>0.0</td>\n",
       "      <td>0.0</td>\n",
       "      <td>0.0</td>\n",
       "      <td>0.0</td>\n",
       "      <td>0.0</td>\n",
       "      <td>0.0</td>\n",
       "      <td>0.0</td>\n",
       "      <td>0.0</td>\n",
       "      <td>0.0</td>\n",
       "      <td>...</td>\n",
       "      <td>0.0</td>\n",
       "      <td>1.0</td>\n",
       "      <td>2.220000e+09</td>\n",
       "      <td>0.392631</td>\n",
       "      <td>1.128466</td>\n",
       "      <td>1.136456</td>\n",
       "      <td>33.323456</td>\n",
       "      <td>10.317771</td>\n",
       "      <td>4</td>\n",
       "      <td>Microsoft Corporation</td>\n",
       "    </tr>\n",
       "    <tr>\n",
       "      <th>...</th>\n",
       "      <td>...</td>\n",
       "      <td>...</td>\n",
       "      <td>...</td>\n",
       "      <td>...</td>\n",
       "      <td>...</td>\n",
       "      <td>...</td>\n",
       "      <td>...</td>\n",
       "      <td>...</td>\n",
       "      <td>...</td>\n",
       "      <td>...</td>\n",
       "      <td>...</td>\n",
       "      <td>...</td>\n",
       "      <td>...</td>\n",
       "      <td>...</td>\n",
       "      <td>...</td>\n",
       "      <td>...</td>\n",
       "      <td>...</td>\n",
       "      <td>...</td>\n",
       "      <td>...</td>\n",
       "      <td>...</td>\n",
       "      <td>...</td>\n",
       "    </tr>\n",
       "    <tr>\n",
       "      <th>2050</th>\n",
       "      <td>0.0</td>\n",
       "      <td>0.0</td>\n",
       "      <td>0.0</td>\n",
       "      <td>0.0</td>\n",
       "      <td>0.0</td>\n",
       "      <td>0.0</td>\n",
       "      <td>0.0</td>\n",
       "      <td>0.0</td>\n",
       "      <td>0.0</td>\n",
       "      <td>0.0</td>\n",
       "      <td>...</td>\n",
       "      <td>0.0</td>\n",
       "      <td>1.0</td>\n",
       "      <td>6.200000e+08</td>\n",
       "      <td>0.190474</td>\n",
       "      <td>1.050654</td>\n",
       "      <td>1.045921</td>\n",
       "      <td>29.139183</td>\n",
       "      <td>3.344011</td>\n",
       "      <td>4</td>\n",
       "      <td>Restaurant Brands International Inc.</td>\n",
       "    </tr>\n",
       "    <tr>\n",
       "      <th>2051</th>\n",
       "      <td>0.0</td>\n",
       "      <td>0.0</td>\n",
       "      <td>0.0</td>\n",
       "      <td>0.0</td>\n",
       "      <td>0.0</td>\n",
       "      <td>0.0</td>\n",
       "      <td>0.0</td>\n",
       "      <td>0.0</td>\n",
       "      <td>0.0</td>\n",
       "      <td>0.0</td>\n",
       "      <td>...</td>\n",
       "      <td>0.0</td>\n",
       "      <td>1.0</td>\n",
       "      <td>2.700000e+07</td>\n",
       "      <td>0.163367</td>\n",
       "      <td>0.755832</td>\n",
       "      <td>0.886668</td>\n",
       "      <td>38.746944</td>\n",
       "      <td>3.790462</td>\n",
       "      <td>4</td>\n",
       "      <td>Restaurant Brands International Inc.</td>\n",
       "    </tr>\n",
       "    <tr>\n",
       "      <th>2053</th>\n",
       "      <td>0.0</td>\n",
       "      <td>0.0</td>\n",
       "      <td>0.0</td>\n",
       "      <td>0.0</td>\n",
       "      <td>1.0</td>\n",
       "      <td>0.0</td>\n",
       "      <td>0.0</td>\n",
       "      <td>0.0</td>\n",
       "      <td>0.0</td>\n",
       "      <td>0.0</td>\n",
       "      <td>...</td>\n",
       "      <td>0.0</td>\n",
       "      <td>0.0</td>\n",
       "      <td>5.764300e+07</td>\n",
       "      <td>0.512054</td>\n",
       "      <td>2.561981</td>\n",
       "      <td>0.644522</td>\n",
       "      <td>12.427822</td>\n",
       "      <td>11.069297</td>\n",
       "      <td>4</td>\n",
       "      <td>Healthpeak Properties, Inc.</td>\n",
       "    </tr>\n",
       "    <tr>\n",
       "      <th>2054</th>\n",
       "      <td>0.0</td>\n",
       "      <td>0.0</td>\n",
       "      <td>0.0</td>\n",
       "      <td>0.0</td>\n",
       "      <td>0.0</td>\n",
       "      <td>0.0</td>\n",
       "      <td>0.0</td>\n",
       "      <td>0.0</td>\n",
       "      <td>0.0</td>\n",
       "      <td>0.0</td>\n",
       "      <td>...</td>\n",
       "      <td>0.0</td>\n",
       "      <td>1.0</td>\n",
       "      <td>4.481100e+07</td>\n",
       "      <td>0.475132</td>\n",
       "      <td>0.042909</td>\n",
       "      <td>1.041147</td>\n",
       "      <td>369.632503</td>\n",
       "      <td>13.568361</td>\n",
       "      <td>4</td>\n",
       "      <td>Healthpeak Properties, Inc.</td>\n",
       "    </tr>\n",
       "    <tr>\n",
       "      <th>2055</th>\n",
       "      <td>0.0</td>\n",
       "      <td>0.0</td>\n",
       "      <td>0.0</td>\n",
       "      <td>0.0</td>\n",
       "      <td>0.0</td>\n",
       "      <td>0.0</td>\n",
       "      <td>0.0</td>\n",
       "      <td>0.0</td>\n",
       "      <td>0.0</td>\n",
       "      <td>0.0</td>\n",
       "      <td>...</td>\n",
       "      <td>0.0</td>\n",
       "      <td>1.0</td>\n",
       "      <td>-2.972000e+06</td>\n",
       "      <td>0.461340</td>\n",
       "      <td>9.083308</td>\n",
       "      <td>1.326150</td>\n",
       "      <td>37.553018</td>\n",
       "      <td>9.441774</td>\n",
       "      <td>5</td>\n",
       "      <td>Healthpeak Properties, Inc.</td>\n",
       "    </tr>\n",
       "  </tbody>\n",
       "</table>\n",
       "<p>1516 rows × 31 columns</p>\n",
       "</div>"
      ],
      "text/plain": [
       "      country_Argentina  country_Australia  country_Bermuda  country_Brazil  \\\n",
       "1                   0.0                0.0              0.0             0.0   \n",
       "2                   0.0                0.0              0.0             0.0   \n",
       "3                   0.0                0.0              0.0             0.0   \n",
       "5                   0.0                0.0              0.0             0.0   \n",
       "6                   0.0                0.0              0.0             0.0   \n",
       "...                 ...                ...              ...             ...   \n",
       "2050                0.0                0.0              0.0             0.0   \n",
       "2051                0.0                0.0              0.0             0.0   \n",
       "2053                0.0                0.0              0.0             0.0   \n",
       "2054                0.0                0.0              0.0             0.0   \n",
       "2055                0.0                0.0              0.0             0.0   \n",
       "\n",
       "      country_Canada  country_China  country_Denmark  country_France  \\\n",
       "1                0.0            0.0              0.0             0.0   \n",
       "2                0.0            0.0              0.0             0.0   \n",
       "3                0.0            0.0              0.0             0.0   \n",
       "5                0.0            0.0              0.0             0.0   \n",
       "6                0.0            0.0              0.0             0.0   \n",
       "...              ...            ...              ...             ...   \n",
       "2050             0.0            0.0              0.0             0.0   \n",
       "2051             0.0            0.0              0.0             0.0   \n",
       "2053             1.0            0.0              0.0             0.0   \n",
       "2054             0.0            0.0              0.0             0.0   \n",
       "2055             0.0            0.0              0.0             0.0   \n",
       "\n",
       "      country_Germany  country_Ireland  ...  country_United Kingdom  \\\n",
       "1                 0.0              0.0  ...                     0.0   \n",
       "2                 0.0              0.0  ...                     0.0   \n",
       "3                 0.0              0.0  ...                     0.0   \n",
       "5                 0.0              0.0  ...                     0.0   \n",
       "6                 0.0              0.0  ...                     0.0   \n",
       "...               ...              ...  ...                     ...   \n",
       "2050              0.0              0.0  ...                     0.0   \n",
       "2051              0.0              0.0  ...                     0.0   \n",
       "2053              0.0              0.0  ...                     0.0   \n",
       "2054              0.0              0.0  ...                     0.0   \n",
       "2055              0.0              0.0  ...                     0.0   \n",
       "\n",
       "      country_United States      cashFlow  EK_Quote  ebit_growth  \\\n",
       "1                       1.0  2.431100e+10  0.267308     0.928189   \n",
       "2                       1.0 -1.043500e+10  0.201733     1.039000   \n",
       "3                       1.0 -3.860000e+09  0.179743     1.649161   \n",
       "5                       1.0 -5.900000e+08  0.357103     2.367992   \n",
       "6                       1.0  2.220000e+09  0.392631     1.128466   \n",
       "...                     ...           ...       ...          ...   \n",
       "2050                    1.0  6.200000e+08  0.190474     1.050654   \n",
       "2051                    1.0  2.700000e+07  0.163367     0.755832   \n",
       "2053                    0.0  5.764300e+07  0.512054     2.561981   \n",
       "2054                    1.0  4.481100e+07  0.475132     0.042909   \n",
       "2055                    1.0 -2.972000e+06  0.461340     9.083308   \n",
       "\n",
       "      revenue_growth         kgv        kuv  future_beta  \\\n",
       "1           0.979589   16.004385   3.399026            4   \n",
       "2           1.055121   31.929079   6.677524            5   \n",
       "3           1.332594   25.458685   6.589164            5   \n",
       "5           1.140295   25.398821   7.919787            5   \n",
       "6           1.136456   33.323456  10.317771            4   \n",
       "...              ...         ...        ...          ...   \n",
       "2050        1.045921   29.139183   3.344011            4   \n",
       "2051        0.886668   38.746944   3.790462            4   \n",
       "2053        0.644522   12.427822  11.069297            4   \n",
       "2054        1.041147  369.632503  13.568361            4   \n",
       "2055        1.326150   37.553018   9.441774            5   \n",
       "\n",
       "                                      name  \n",
       "1                               Apple Inc.  \n",
       "2                               Apple Inc.  \n",
       "3                               Apple Inc.  \n",
       "5                    Microsoft Corporation  \n",
       "6                    Microsoft Corporation  \n",
       "...                                    ...  \n",
       "2050  Restaurant Brands International Inc.  \n",
       "2051  Restaurant Brands International Inc.  \n",
       "2053           Healthpeak Properties, Inc.  \n",
       "2054           Healthpeak Properties, Inc.  \n",
       "2055           Healthpeak Properties, Inc.  \n",
       "\n",
       "[1516 rows x 31 columns]"
      ]
     },
     "execution_count": 26,
     "metadata": {},
     "output_type": "execute_result"
    }
   ],
   "source": [
    "save_df_predicted_betas(\"predicted_daframe.csv\")"
   ]
  },
  {
   "cell_type": "markdown",
   "id": "innovative-communist",
   "metadata": {},
   "source": [
    "# Neural Networks"
   ]
  },
  {
   "cell_type": "code",
   "execution_count": 27,
   "id": "considered-poison",
   "metadata": {},
   "outputs": [],
   "source": [
    "from keras.models import Sequential\n",
    "from keras.layers import Dense\n",
    "from keras.callbacks import EarlyStopping\n",
    "from keras import backend as K\n",
    "#create model\n",
    "model = Sequential()\n",
    "\n",
    "#get number of columns in training data\n",
    "n_cols_2 = X_train.shape[1]\n",
    "\n",
    "#add layers to model\n",
    "model.add(Dense(70, activation='relu', input_shape=(n_cols_2, )))\n",
    "model.add(Dense(70, activation='relu'))\n",
    "model.add(Dense(70, activation='relu'))\n",
    "model.add(Dense(6, activation='softmax'))\n",
    "\n",
    "#compile model using accuracy to measure model performance\n",
    "model.compile(optimizer='adam', loss=['sparse_categorical_crossentropy', 'mse'], metrics=['accuracy'])"
   ]
  },
  {
   "cell_type": "code",
   "execution_count": 28,
   "id": "sustainable-pottery",
   "metadata": {},
   "outputs": [],
   "source": [
    "# K.set_value(model.optimizer.learning_rate, 0.01)"
   ]
  },
  {
   "cell_type": "code",
   "execution_count": 29,
   "id": "pressed-dollar",
   "metadata": {},
   "outputs": [],
   "source": [
    "early_stopping_monitor = EarlyStopping(patience=3)"
   ]
  },
  {
   "cell_type": "code",
   "execution_count": 30,
   "id": "latter-collectible",
   "metadata": {},
   "outputs": [
    {
     "name": "stdout",
     "output_type": "stream",
     "text": [
      "Epoch 1/30\n",
      "8/8 [==============================] - 0s 21ms/step - loss: 1.7763 - accuracy: 0.1887 - val_loss: 1.7501 - val_accuracy: 0.1988\n",
      "Epoch 2/30\n",
      "8/8 [==============================] - 0s 5ms/step - loss: 1.7256 - accuracy: 0.2264 - val_loss: 1.7090 - val_accuracy: 0.2076\n",
      "Epoch 3/30\n",
      "8/8 [==============================] - 0s 5ms/step - loss: 1.6836 - accuracy: 0.2113 - val_loss: 1.6781 - val_accuracy: 0.2135\n",
      "Epoch 4/30\n",
      "8/8 [==============================] - 0s 5ms/step - loss: 1.6510 - accuracy: 0.2314 - val_loss: 1.6658 - val_accuracy: 0.2135\n",
      "Epoch 5/30\n",
      "8/8 [==============================] - 0s 5ms/step - loss: 1.6305 - accuracy: 0.2327 - val_loss: 1.6650 - val_accuracy: 0.2164\n",
      "Epoch 6/30\n",
      "8/8 [==============================] - 0s 5ms/step - loss: 1.6229 - accuracy: 0.2352 - val_loss: 1.6717 - val_accuracy: 0.2164\n",
      "Epoch 7/30\n",
      "8/8 [==============================] - 0s 5ms/step - loss: 1.6196 - accuracy: 0.2340 - val_loss: 1.6698 - val_accuracy: 0.2164\n",
      "Epoch 8/30\n",
      "8/8 [==============================] - 0s 5ms/step - loss: 1.6176 - accuracy: 0.2327 - val_loss: 1.6755 - val_accuracy: 0.2135\n"
     ]
    }
   ],
   "source": [
    "history = model.fit(X_train, y_train, epochs=30, batch_size = 100, validation_split=0.3, callbacks=[early_stopping_monitor])"
   ]
  },
  {
   "cell_type": "code",
   "execution_count": 31,
   "id": "acquired-pocket",
   "metadata": {},
   "outputs": [
    {
     "name": "stdout",
     "output_type": "stream",
     "text": [
      "0.23522011935710907\n"
     ]
    }
   ],
   "source": [
    "best_score = max(history.history['accuracy'])\n",
    "print(best_score)"
   ]
  },
  {
   "cell_type": "code",
   "execution_count": 32,
   "id": "abandoned-brand",
   "metadata": {},
   "outputs": [],
   "source": [
    "# get the model\n",
    "def get_NN_model(n_inputs, n_outputs):\n",
    "    model = Sequential()\n",
    "    model.add(Dense(20, input_dim=n_inputs, kernel_initializer='he_uniform', activation='relu'))\n",
    "    model.add(Dense(n_outputs, activation='sigmoid'))\n",
    "    model.compile(loss='sparse_categorical_crossentropy', optimizer='adam')\n",
    "    return model"
   ]
  },
  {
   "cell_type": "code",
   "execution_count": 33,
   "id": "environmental-hughes",
   "metadata": {},
   "outputs": [],
   "source": [
    "n_cols_2 = X_test.shape[1]"
   ]
  },
  {
   "cell_type": "code",
   "execution_count": 34,
   "id": "funky-reach",
   "metadata": {},
   "outputs": [],
   "source": [
    "model = get_NN_model(n_cols_2, 6)"
   ]
  },
  {
   "cell_type": "code",
   "execution_count": 35,
   "id": "third-taste",
   "metadata": {},
   "outputs": [],
   "source": [
    "# # make a prediction on the test set\n",
    "# yhat = model.predict(X_test)\n",
    "# # round probabilities to class labels\n",
    "# # yhat = yhat.round()\n",
    "# # calculate accuracy\n",
    "# acc = accuracy_score(y_test, yhat)"
   ]
  },
  {
   "cell_type": "code",
   "execution_count": 36,
   "id": "overhead-session",
   "metadata": {},
   "outputs": [],
   "source": [
    "# yhat"
   ]
  },
  {
   "cell_type": "code",
   "execution_count": null,
   "id": "impaired-costs",
   "metadata": {},
   "outputs": [],
   "source": []
  }
 ],
 "metadata": {
  "kernelspec": {
   "display_name": "Python 3",
   "language": "python",
   "name": "python3"
  },
  "language_info": {
   "codemirror_mode": {
    "name": "ipython",
    "version": 3
   },
   "file_extension": ".py",
   "mimetype": "text/x-python",
   "name": "python",
   "nbconvert_exporter": "python",
   "pygments_lexer": "ipython3",
   "version": "3.9.10"
  }
 },
 "nbformat": 4,
 "nbformat_minor": 5
}
